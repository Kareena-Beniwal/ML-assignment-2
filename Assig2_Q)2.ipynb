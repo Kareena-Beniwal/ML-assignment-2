{
 "cells": [
  {
   "cell_type": "code",
   "execution_count": 1,
   "id": "84cab43c",
   "metadata": {},
   "outputs": [],
   "source": [
    "import matplotlib.pyplot as plt\n",
    "import pandas as pd\n",
    "%matplotlib inline\n",
    "%config InlineBackend.figure_format='retina'\n",
    "\n",
    "\n",
    "import numpy as np"
   ]
  },
  {
   "cell_type": "code",
   "execution_count": 2,
   "id": "9ece5f66",
   "metadata": {},
   "outputs": [],
   "source": [
    "x1=np.array([1,2,3])\n",
    "x2=2*x1\n",
    "\n",
    "y=np.array([4,6,8])"
   ]
  },
  {
   "cell_type": "code",
   "execution_count": 3,
   "id": "50fb14a4",
   "metadata": {},
   "outputs": [],
   "source": [
    "all_ones=np.ones(x1.shape[0])\n",
    "X=np.array([all_ones,x1,x2]).T"
   ]
  },
  {
   "cell_type": "code",
   "execution_count": 4,
   "id": "f2feae67",
   "metadata": {},
   "outputs": [
    {
     "data": {
      "text/plain": [
       "(3, 3)"
      ]
     },
     "execution_count": 4,
     "metadata": {},
     "output_type": "execute_result"
    }
   ],
   "source": [
    "X.shape"
   ]
  },
  {
   "cell_type": "code",
   "execution_count": 5,
   "id": "30e6b610",
   "metadata": {},
   "outputs": [
    {
     "data": {
      "text/plain": [
       "array([[1., 1., 2.],\n",
       "       [1., 2., 4.],\n",
       "       [1., 3., 6.]])"
      ]
     },
     "execution_count": 5,
     "metadata": {},
     "output_type": "execute_result"
    }
   ],
   "source": [
    "X"
   ]
  },
  {
   "cell_type": "code",
   "execution_count": 6,
   "id": "7c20561a",
   "metadata": {},
   "outputs": [],
   "source": [
    "def solve_normal_equation(X,y):\n",
    "    try:\n",
    "        theta=np.linalg.inv(X.T @ X) @X.T @ y\n",
    "        return theta\n",
    "    except np.linalg.LinAlgError:\n",
    "        print('The matrix is singular')\n",
    "        print(\"X.T @ X = \\n\", X.T @ X)\n",
    "        return None"
   ]
  },
  {
   "cell_type": "code",
   "execution_count": 9,
   "id": "8dada5b8",
   "metadata": {},
   "outputs": [
    {
     "name": "stdout",
     "output_type": "stream",
     "text": [
      "The matrix is singular\n",
      "X.T @ X = \n",
      " [[ 3.  6. 12.]\n",
      " [ 6. 14. 28.]\n",
      " [12. 28. 56.]]\n"
     ]
    }
   ],
   "source": [
    "matrix1=solve_normal_equation(X,y)\n",
    "matrix1"
   ]
  },
  {
   "cell_type": "code",
   "execution_count": 10,
   "id": "123d7675",
   "metadata": {},
   "outputs": [],
   "source": [
    "def solve_normal_equation(X, y):\n",
    "    try:\n",
    "        # Solve the linear equation X.T @ X * theta = X.T @ y for theta\n",
    "        theta = np.linalg.solve(X.T @ X, X.T @ y)\n",
    "        return theta\n",
    "    except np.linalg.LinAlgError:\n",
    "        print('The matrix is singular')\n",
    "        print(\"X.T @ X = \\n\", X.T @ X)\n",
    "        return None\n"
   ]
  },
  {
   "cell_type": "code",
   "execution_count": 11,
   "id": "2ab48b8c",
   "metadata": {},
   "outputs": [
    {
     "name": "stdout",
     "output_type": "stream",
     "text": [
      "The matrix is singular\n",
      "X.T @ X = \n",
      " [[ 3.  6. 12.]\n",
      " [ 6. 14. 28.]\n",
      " [12. 28. 56.]]\n"
     ]
    }
   ],
   "source": [
    "matrix2=solve_normal_equation(X,y)\n",
    "matrix2"
   ]
  },
  {
   "cell_type": "markdown",
   "id": "cfd32260",
   "metadata": {},
   "source": [
    "\n",
    "Finding the inverse of a matrix can make small mistakes bigger, which might give us wrong answers. But if we solve equations directly, we can avoid this issue. Also, finding the inverse of a big matrix can take a lot of time and computer power. But solving equations directly is quicker and needs less power.\n",
    "That's why using np.linalg.solve instead of directly computing the matrix inverse is better in terms of numerical stability, efficiency, and robustness."
   ]
  }
 ],
 "metadata": {
  "kernelspec": {
   "display_name": "Python 3 (ipykernel)",
   "language": "python",
   "name": "python3"
  },
  "language_info": {
   "codemirror_mode": {
    "name": "ipython",
    "version": 3
   },
   "file_extension": ".py",
   "mimetype": "text/x-python",
   "name": "python",
   "nbconvert_exporter": "python",
   "pygments_lexer": "ipython3",
   "version": "3.11.5"
  }
 },
 "nbformat": 4,
 "nbformat_minor": 5
}
